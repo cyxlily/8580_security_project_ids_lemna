{
 "cells": [
  {
   "cell_type": "code",
   "execution_count": 3,
   "metadata": {},
   "outputs": [],
   "source": [
    "import pandas as pd\n",
    "unique_tokens = ['t13.0','i15.3','u22.4']\n",
    "pd_unique_tokens = pd.DataFrame(data=unique_tokens)\n",
    "#pd_unique_tokens.to_csv('unique_tokens1.csv',header=None,index=False)"
   ]
  },
  {
   "cell_type": "code",
   "execution_count": 4,
   "metadata": {},
   "outputs": [
    {
     "name": "stdout",
     "output_type": "stream",
     "text": [
      "['t13.0', 'i15.3', 'u22.4']\n",
      "   0\n",
      "0  1\n",
      "1  0\n",
      "2  2\n"
     ]
    }
   ],
   "source": [
    "from sklearn.preprocessing import LabelEncoder\n",
    "print unique_tokens\n",
    "le = LabelEncoder()\n",
    "le.fit(unique_tokens)\n",
    "unique_tokens_en = le.transform(unique_tokens)\n",
    "unique_tokens_en54 = [i+1 for i in unique_tokens_en]\n",
    "pd_unique_tokens_en = pd.DataFrame(data=unique_tokens_en54)\n",
    "\n",
    "print pd_unique_tokens_en\n",
    "pd_unique_tokens_en.to_csv('unique_tokens_en1.csv',header=None,index=False)"
   ]
  },
  {
   "cell_type": "code",
   "execution_count": 6,
   "metadata": {},
   "outputs": [
    {
     "name": "stdout",
     "output_type": "stream",
     "text": [
      "['t13.0' 'i15.3' 'u22.4']\n"
     ]
    }
   ],
   "source": [
    "from sklearn.preprocessing import LabelEncoder\n",
    "unique_tokens = pd.read_csv('unique_tokens1.csv',header=None).iloc[:,0].tolist()\n",
    "le = LabelEncoder()\n",
    "le.fit(unique_tokens)\n",
    "sequence = le.inverse_transform([1,0,2])\n",
    "print sequence"
   ]
  },
  {
   "cell_type": "code",
   "execution_count": 6,
   "metadata": {},
   "outputs": [
    {
     "name": "stdout",
     "output_type": "stream",
     "text": [
      "13.5329646317\n"
     ]
    }
   ],
   "source": [
    "import math\n",
    "import numpy as np\n",
    "x=11852.0\n",
    "print math.log(x + 1.0,2)"
   ]
  },
  {
   "cell_type": "code",
   "execution_count": null,
   "metadata": {},
   "outputs": [],
   "source": [
    "from sklearn.metrics import accuracy_score\n",
    "y_pred = [0, 2, 1, 3]\n",
    "y_true = [0, 1, 2, 3]\n",
    "a = accuracy_score(y_true, y_pred)\n",
    "print a"
   ]
  }
 ],
 "metadata": {
  "kernelspec": {
   "display_name": "lemna_py27",
   "language": "python",
   "name": "yuxinc"
  },
  "language_info": {
   "codemirror_mode": {
    "name": "ipython",
    "version": 2
   },
   "file_extension": ".py",
   "mimetype": "text/x-python",
   "name": "python",
   "nbconvert_exporter": "python",
   "pygments_lexer": "ipython2",
   "version": "2.7.15"
  }
 },
 "nbformat": 4,
 "nbformat_minor": 2
}
